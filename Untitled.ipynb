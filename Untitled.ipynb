{
 "cells": [
  {
   "cell_type": "code",
   "execution_count": 1,
   "id": "23c5063f",
   "metadata": {},
   "outputs": [],
   "source": [
    "client_id = '98f79e400795491cbc5f69b713465708'\n",
    "client_secret = '9d2f34d612334ba58b9f124ae05b3357'"
   ]
  },
  {
   "cell_type": "code",
   "execution_count": 2,
   "id": "3909fb8f",
   "metadata": {},
   "outputs": [],
   "source": [
    "\n",
    "import os\n",
    "import sys\n",
    "import json\n",
    "import spotipy\n",
    "import webbrowser\n",
    "import spotipy.util as util\n",
    "from json.decoder import JSONDecodeError"
   ]
  },
  {
   "cell_type": "code",
   "execution_count": 3,
   "id": "cd64aafe",
   "metadata": {},
   "outputs": [],
   "source": [
    "import spotipy\n",
    "from spotipy.oauth2 import SpotifyClientCredentials\n",
    "from spotipy.oauth2 import SpotifyOAuth\n",
    "\n",
    "auth_manager = SpotifyClientCredentials(client_id,client_secret,'https://google.com')\n",
    "sp = spotipy.Spotify(auth_manager=auth_manager)"
   ]
  },
  {
   "cell_type": "code",
   "execution_count": 4,
   "id": "5453487b",
   "metadata": {},
   "outputs": [
    {
     "name": "stderr",
     "output_type": "stream",
     "text": [
      "/var/folders/gr/5p227dz15zbgdl73_1w9_0d40000gn/T/ipykernel_31838/4117729298.py:4: DeprecationWarning: You're using 'as_dict = True'.get_access_token will return the token string directly in future versions. Please adjust your code accordingly, or use get_cached_token instead.\n",
      "  token = spotifyOAuth.get_access_token()\n"
     ]
    },
    {
     "name": "stdout",
     "output_type": "stream",
     "text": [
      "Enter the URL you were redirected to: https://www.google.com/?code=AQActlzzyLb4UGH8RUIy7iCLijcr97q4leXBCkwWCr1GFOZ8Hw6_K7R3j72KytZoJY9B8gCBcdc5rPU0J4W6nLPsFkzBZVPtAsrxTWmt8EgWARxjfZXGNgQRfEyKCBGSQQxbhNj8d1QJDJha2okt-NeWUuSh0Q\n"
     ]
    }
   ],
   "source": [
    "spotifyOAuth = spotipy.SpotifyOAuth(client_id=client_id,\n",
    "                                    client_secret=client_secret,\n",
    "                                    redirect_uri='https://google.com')\n",
    "token = spotifyOAuth.get_access_token()\n",
    "# print(json.dumps(token, sort_keys=True, indent=4))\n",
    "\n",
    "# Create our spotifyObject\n",
    "spotifyObject = spotipy.Spotify(auth=token['access_token'])"
   ]
  },
  {
   "cell_type": "code",
   "execution_count": 12,
   "id": "c60fdff0",
   "metadata": {},
   "outputs": [
    {
     "name": "stdout",
     "output_type": "stream",
     "text": [
      "track    : God's Country\n",
      "audio    : https://p.scdn.co/mp3-preview/dfcfd112ce5027627f7b29b296d514830b6bcee5?cid=98f79e400795491cbc5f69b713465708\n",
      "cover art: https://i.scdn.co/image/ab67616d0000b273acf99661b45380007ad598cb\n",
      "\n",
      "track    : Nobody But You (Duet with Gwen Stefani)\n",
      "audio    : https://p.scdn.co/mp3-preview/beb49ca298dbd0f55b2b1b1861322ae3275f67a7?cid=98f79e400795491cbc5f69b713465708\n",
      "cover art: https://i.scdn.co/image/ab67616d0000b273acf99661b45380007ad598cb\n",
      "\n",
      "track    : Happy Anywhere (feat. Gwen Stefani)\n",
      "audio    : https://p.scdn.co/mp3-preview/2c90d7d47386c002a42cb21a6d8f88de9c65b72f?cid=98f79e400795491cbc5f69b713465708\n",
      "cover art: https://i.scdn.co/image/ab67616d0000b273a20eb5f39745e8d6bfe85748\n",
      "\n",
      "track    : Boys 'Round Here (feat. Pistol Annies & Friends)\n",
      "audio    : https://p.scdn.co/mp3-preview/462ed45aa32d848c90a4be54002e4014a6c1d66e?cid=98f79e400795491cbc5f69b713465708\n",
      "cover art: https://i.scdn.co/image/ab67616d0000b273de2b6ae73697b2da4d3e9c27\n",
      "\n",
      "track    : Ol' Red\n",
      "audio    : https://p.scdn.co/mp3-preview/a470276cb45c235d8dfe4ad0111ad19846f5e390?cid=98f79e400795491cbc5f69b713465708\n",
      "cover art: https://i.scdn.co/image/ab67616d0000b2731716c34342160479d07aef9c\n",
      "\n",
      "track    : Honey Bee\n",
      "audio    : https://p.scdn.co/mp3-preview/83d5b94d87a52402c7032dc375be75e5e29a8b40?cid=98f79e400795491cbc5f69b713465708\n",
      "cover art: https://i.scdn.co/image/ab67616d0000b273b210ae955aeea30e0fa97434\n",
      "\n",
      "track    : Austin\n",
      "audio    : https://p.scdn.co/mp3-preview/925d120324d51d7c24399532785e5d9b1de71d78?cid=98f79e400795491cbc5f69b713465708\n",
      "cover art: https://i.scdn.co/image/ab67616d0000b2731716c34342160479d07aef9c\n",
      "\n",
      "track    : God Gave Me You\n",
      "audio    : https://p.scdn.co/mp3-preview/ba757e3370a5dc607a8ab96e6d998cc32636eec4?cid=98f79e400795491cbc5f69b713465708\n",
      "cover art: https://i.scdn.co/image/ab67616d0000b273b210ae955aeea30e0fa97434\n",
      "\n",
      "track    : Sangria\n",
      "audio    : https://p.scdn.co/mp3-preview/cabd9861fb4e39283cd6dc086a2da8739186e543?cid=98f79e400795491cbc5f69b713465708\n",
      "cover art: https://i.scdn.co/image/ab67616d0000b2731eae4b4bee84c621dff76b32\n",
      "\n",
      "track    : Minimum Wage\n",
      "audio    : https://p.scdn.co/mp3-preview/89fa29b98b7871af9f863b6ee818fd353eba6286?cid=98f79e400795491cbc5f69b713465708\n",
      "cover art: https://i.scdn.co/image/ab67616d0000b273a20eb5f39745e8d6bfe85748\n",
      "\n"
     ]
    }
   ],
   "source": [
    "lz_uri = 'spotify:artist:1UTPBmNbXNTittyMJrNkvw'\n",
    "\n",
    "results = spotifyObject.artist_top_tracks(lz_uri)\n",
    "\n",
    "for track in results['tracks']:\n",
    "    print('track    : ' + track['name'])\n",
    "    print('audio    : ' + track['preview_url'])\n",
    "    print('cover art: ' + track['album']['images'][0]['url'])\n",
    "    print()"
   ]
  },
  {
   "cell_type": "code",
   "execution_count": null,
   "id": "857719e2",
   "metadata": {},
   "outputs": [],
   "source": []
  }
 ],
 "metadata": {
  "kernelspec": {
   "display_name": "Python 3 (ipykernel)",
   "language": "python",
   "name": "python3"
  },
  "language_info": {
   "codemirror_mode": {
    "name": "ipython",
    "version": 3
   },
   "file_extension": ".py",
   "mimetype": "text/x-python",
   "name": "python",
   "nbconvert_exporter": "python",
   "pygments_lexer": "ipython3",
   "version": "3.9.12"
  }
 },
 "nbformat": 4,
 "nbformat_minor": 5
}
