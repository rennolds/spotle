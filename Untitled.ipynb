{
 "cells": [
  {
   "cell_type": "code",
   "execution_count": 16,
   "id": "23c5063f",
   "metadata": {},
   "outputs": [],
   "source": [
    "client_id = '98f79e400795491cbc5f69b713465708'\n",
    "client_secret = '9d2f34d612334ba58b9f124ae05b3357'"
   ]
  },
  {
   "cell_type": "code",
   "execution_count": 17,
   "id": "3909fb8f",
   "metadata": {},
   "outputs": [],
   "source": [
    "\n",
    "import os\n",
    "import sys\n",
    "import json\n",
    "import spotipy\n",
    "import webbrowser\n",
    "import spotipy.util as util\n",
    "from json.decoder import JSONDecodeError"
   ]
  },
  {
   "cell_type": "code",
   "execution_count": 18,
   "id": "cd64aafe",
   "metadata": {},
   "outputs": [],
   "source": [
    "import spotipy\n",
    "from spotipy.oauth2 import SpotifyClientCredentials\n",
    "from spotipy.oauth2 import SpotifyOAuth\n",
    "\n",
    "auth_manager = SpotifyClientCredentials(client_id,client_secret,'https://google.com')\n",
    "sp = spotipy.Spotify(auth_manager=auth_manager)"
   ]
  },
  {
   "cell_type": "code",
   "execution_count": 19,
   "id": "5453487b",
   "metadata": {},
   "outputs": [
    {
     "name": "stderr",
     "output_type": "stream",
     "text": [
      "/var/folders/gr/5p227dz15zbgdl73_1w9_0d40000gn/T/ipykernel_31838/4117729298.py:4: DeprecationWarning: You're using 'as_dict = True'.get_access_token will return the token string directly in future versions. Please adjust your code accordingly, or use get_cached_token instead.\n",
      "  token = spotifyOAuth.get_access_token()\n"
     ]
    }
   ],
   "source": [
    "spotifyOAuth = spotipy.SpotifyOAuth(client_id=client_id,\n",
    "                                    client_secret=client_secret,\n",
    "                                    redirect_uri='https://google.com')\n",
    "token = spotifyOAuth.get_access_token()\n",
    "# print(json.dumps(token, sort_keys=True, indent=4))\n",
    "\n",
    "# Create our spotifyObject\n",
    "spotifyObject = spotipy.Spotify(auth=token['access_token'])"
   ]
  },
  {
   "cell_type": "code",
   "execution_count": 24,
   "id": "c60fdff0",
   "metadata": {},
   "outputs": [
    {
     "data": {
      "text/plain": [
       "[{'height': 640,\n",
       "  'url': 'https://i.scdn.co/image/ab6761610000e5eb867008a971fae0f4d913f63a',\n",
       "  'width': 640},\n",
       " {'height': 320,\n",
       "  'url': 'https://i.scdn.co/image/ab67616100005174867008a971fae0f4d913f63a',\n",
       "  'width': 320},\n",
       " {'height': 160,\n",
       "  'url': 'https://i.scdn.co/image/ab6761610000f178867008a971fae0f4d913f63a',\n",
       "  'width': 160}]"
      ]
     },
     "execution_count": 24,
     "metadata": {},
     "output_type": "execute_result"
    }
   ],
   "source": [
    "lz_uri = 'spotify:artist:5K4W6rqBFWDnAN6FQUkS6x'\n",
    "\n",
    "\n",
    "results = spotifyObject.artist(lz_uri)\n",
    "\n",
    "results['images']"
   ]
  },
  {
   "cell_type": "code",
   "execution_count": null,
   "id": "857719e2",
   "metadata": {},
   "outputs": [],
   "source": []
  }
 ],
 "metadata": {
  "kernelspec": {
   "display_name": "Python 3 (ipykernel)",
   "language": "python",
   "name": "python3"
  },
  "language_info": {
   "codemirror_mode": {
    "name": "ipython",
    "version": 3
   },
   "file_extension": ".py",
   "mimetype": "text/x-python",
   "name": "python",
   "nbconvert_exporter": "python",
   "pygments_lexer": "ipython3",
   "version": "3.9.12"
  }
 },
 "nbformat": 4,
 "nbformat_minor": 5
}
